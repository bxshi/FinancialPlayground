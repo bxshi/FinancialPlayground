{
 "cells": [
  {
   "cell_type": "code",
   "execution_count": 3,
   "metadata": {},
   "outputs": [],
   "source": [
    "import numpy as np\n",
    "import yfinance as yf\n",
    "import requests_cache\n",
    "\n",
    "session = requests_cache.CachedSession('yfinance.cache')"
   ]
  },
  {
   "cell_type": "code",
   "execution_count": 4,
   "metadata": {},
   "outputs": [],
   "source": [
    "qqq = yf.Ticker(\"QQQ\", session=session)\n",
    "qqq_hist = qqq.history(period=\"10y\")\n",
    "\n",
    "voo = yf.Ticker(\"VOO\", session=session)\n",
    "voo_hist = voo.history(period=\"10y\")\n",
    "\n",
    "tqqq = yf.Ticker(\"TQQQ\", session=session)\n",
    "tqqq_hist = tqqq.history(period=\"10y\")"
   ]
  },
  {
   "cell_type": "code",
   "execution_count": 21,
   "metadata": {},
   "outputs": [],
   "source": [
    "# Compute $\\alpha$ and $\\sigma^2$ for daily series\n",
    "\n",
    "def _daily_continuously_compound_return(df, column='Close'):\n",
    "    series = df['Close'].to_numpy()\n",
    "    # $X(t) = r(t) = P(t) / P(t-1)$\n",
    "    return np.log(series[1:] / series[:-1])\n",
    "\n",
    "def daily_alpha(df):\n",
    "    r = _daily_continuously_compound_return(df)\n",
    "    return np.mean(r)\n",
    "\n",
    "def daily_variance(df):\n",
    "    r = _daily_continuously_compound_return(df)\n",
    "    return np.var(r)\n",
    "\n",
    "def daily_mu(df):\n",
    "    alpha = daily_alpha(df)\n",
    "    variance = daily_variance(df)\n",
    "    # $\\mu = \\alpha + 1/2*\\sigma^2$\n",
    "    return alpha + 0.5 * variance\n",
    "\n",
    "def daily_covariance(df_list):\n",
    "    # r_mat [len(df_list), observations]\n",
    "    r_mat = np.concatenate([np.reshape(_daily_continuously_compound_return(df), [1,-1]) for df in df_list], axis=0)\n",
    "    return np.cov(r_mat, rowvar=True)\n",
    "\n",
    "def daily_portfolio_variance(df_list, weights):\n",
    "    cov = daily_covariance(df_list)\n",
    "    w = np.reshape(weights, [1, -1])\n",
    "    return np.matmul(np.matmul(w, cov), w.T)[0][0]\n",
    "\n",
    "def daily_portfolio_mu(df_list, weights):\n",
    "    mu = np.matmul(np.asarray([daily_mu(df) for df in df_list]), np.asarray(weights).T)\n",
    "    return mu"
   ]
  },
  {
   "cell_type": "code",
   "execution_count": 22,
   "metadata": {},
   "outputs": [
    {
     "data": {
      "text/plain": [
       "(0.0006381047450368758, 0.00016488066554416715, 0.0007205450778089594)"
      ]
     },
     "execution_count": 22,
     "metadata": {},
     "output_type": "execute_result"
    }
   ],
   "source": [
    "daily_alpha(qqq_hist), daily_variance(qqq_hist), daily_mu(qqq_hist)"
   ]
  },
  {
   "cell_type": "code",
   "execution_count": 23,
   "metadata": {},
   "outputs": [
    {
     "data": {
      "text/plain": [
       "0.0004099034472738794"
      ]
     },
     "execution_count": 23,
     "metadata": {},
     "output_type": "execute_result"
    }
   ],
   "source": [
    "daily_portfolio_variance([qqq_hist, voo_hist, tqqq_hist], [0.33, 0.33, 0.33])"
   ]
  },
  {
   "cell_type": "code",
   "execution_count": 24,
   "metadata": {},
   "outputs": [
    {
     "data": {
      "text/plain": [
       "0.001085763047522761"
      ]
     },
     "execution_count": 24,
     "metadata": {},
     "output_type": "execute_result"
    }
   ],
   "source": [
    "daily_portfolio_mu([qqq_hist, voo_hist, tqqq_hist], [0.33, 0.33, 0.33])"
   ]
  },
  {
   "cell_type": "code",
   "execution_count": null,
   "metadata": {},
   "outputs": [],
   "source": []
  }
 ],
 "metadata": {
  "kernelspec": {
   "display_name": "Python 3.10.4 ('.venv': venv)",
   "language": "python",
   "name": "python3"
  },
  "language_info": {
   "codemirror_mode": {
    "name": "ipython",
    "version": 3
   },
   "file_extension": ".py",
   "mimetype": "text/x-python",
   "name": "python",
   "nbconvert_exporter": "python",
   "pygments_lexer": "ipython3",
   "version": "3.10.4"
  },
  "orig_nbformat": 4,
  "vscode": {
   "interpreter": {
    "hash": "28dda208a46d8c82d4668d23ffa1311452b3718e6c2910a89a7d1a5d30447765"
   }
  }
 },
 "nbformat": 4,
 "nbformat_minor": 2
}
